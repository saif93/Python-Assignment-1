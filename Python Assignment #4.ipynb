{
 "cells": [
  {
   "cell_type": "markdown",
   "metadata": {},
   "source": [
    "Problem#1"
   ]
  },
  {
   "cell_type": "code",
   "execution_count": 17,
   "metadata": {},
   "outputs": [],
   "source": [
    "dict_list = [\n",
    "    \n",
    "    {\n",
    "        \"first_name\":\"Saif ul\",\n",
    "        \"last_name\":\"Islam\", \n",
    "        \"age\":26,\n",
    "        \"city\":\"Karachi\"\n",
    "    }\n",
    "]"
   ]
  },
  {
   "cell_type": "code",
   "execution_count": 18,
   "metadata": {},
   "outputs": [
    {
     "data": {
      "text/plain": [
       "{'first_name': 'Saif ul', 'last_name': 'Islam', 'age': 26, 'city': 'Karachi'}"
      ]
     },
     "execution_count": 18,
     "metadata": {},
     "output_type": "execute_result"
    }
   ],
   "source": [
    "dict_list[0]"
   ]
  },
  {
   "cell_type": "code",
   "execution_count": 19,
   "metadata": {},
   "outputs": [],
   "source": [
    "dict_list[0].update( {\"qualification\":\"BS\"} )"
   ]
  },
  {
   "cell_type": "code",
   "execution_count": 20,
   "metadata": {},
   "outputs": [
    {
     "data": {
      "text/plain": [
       "{'first_name': 'Saif ul',\n",
       " 'last_name': 'Islam',\n",
       " 'age': 26,\n",
       " 'city': 'Karachi',\n",
       " 'qualification': 'BS'}"
      ]
     },
     "execution_count": 20,
     "metadata": {},
     "output_type": "execute_result"
    }
   ],
   "source": [
    "dict_list[0]"
   ]
  },
  {
   "cell_type": "code",
   "execution_count": 21,
   "metadata": {},
   "outputs": [],
   "source": [
    "dict_list[0].update( {\"qualification\":\"MS\"} )"
   ]
  },
  {
   "cell_type": "code",
   "execution_count": 22,
   "metadata": {},
   "outputs": [
    {
     "data": {
      "text/plain": [
       "{'first_name': 'Saif ul',\n",
       " 'last_name': 'Islam',\n",
       " 'age': 26,\n",
       " 'city': 'Karachi',\n",
       " 'qualification': 'MS'}"
      ]
     },
     "execution_count": 22,
     "metadata": {},
     "output_type": "execute_result"
    }
   ],
   "source": [
    "dict_list[0]"
   ]
  },
  {
   "cell_type": "code",
   "execution_count": 23,
   "metadata": {},
   "outputs": [],
   "source": [
    "del dict_list[0][\"qualification\"]"
   ]
  },
  {
   "cell_type": "code",
   "execution_count": 24,
   "metadata": {},
   "outputs": [
    {
     "data": {
      "text/plain": [
       "{'first_name': 'Saif ul', 'last_name': 'Islam', 'age': 26, 'city': 'Karachi'}"
      ]
     },
     "execution_count": 24,
     "metadata": {},
     "output_type": "execute_result"
    }
   ],
   "source": [
    "dict_list[0]"
   ]
  },
  {
   "cell_type": "markdown",
   "metadata": {},
   "source": [
    "Problem#2"
   ]
  },
  {
   "cell_type": "code",
   "execution_count": 26,
   "metadata": {},
   "outputs": [],
   "source": [
    "cities = {\n",
    "    \"karachi\":{\n",
    "        \"country\":\"Pakistan\",\n",
    "        \"population\":\"14.91 million\",\n",
    "        \"mayor\":\"waseem akhtar\"\n",
    "    },\n",
    "    \"paris\":{\n",
    "        \"country\":\"France\",\n",
    "        \"population\":\"2.141 million\",\n",
    "        \"mayor\":\"Anne Hidalgo\"        \n",
    "    },\n",
    "    \"london\":{\n",
    "        \"country\":\"England\",\n",
    "        \"population\":\"8.9 million\",\n",
    "        \"mayor\":\"Sadiq Khan\"         \n",
    "    }\n",
    "    \n",
    "}"
   ]
  },
  {
   "cell_type": "code",
   "execution_count": 27,
   "metadata": {},
   "outputs": [
    {
     "data": {
      "text/plain": [
       "{'karachi': {'country': 'Pakistan',\n",
       "  'population': '14.91 million',\n",
       "  'mayor': 'waseem akhtar'},\n",
       " 'paris': {'country': 'France',\n",
       "  'population': '2.141 million',\n",
       "  'mayor': 'Anne Hidalgo'},\n",
       " 'london': {'country': 'England',\n",
       "  'population': '8.9 million',\n",
       "  'mayor': 'Sadiq Khan'}}"
      ]
     },
     "execution_count": 27,
     "metadata": {},
     "output_type": "execute_result"
    }
   ],
   "source": [
    "cities"
   ]
  },
  {
   "cell_type": "markdown",
   "metadata": {},
   "source": [
    "Problem#3"
   ]
  },
  {
   "cell_type": "code",
   "execution_count": 39,
   "metadata": {},
   "outputs": [
    {
     "name": "stdout",
     "output_type": "stream",
     "text": [
      "Enter your age to know the cost of movie ticket,Enter 0 to quit:2\n",
      "FREE\n",
      "Enter your age to know the cost of movie ticket,Enter 0 to quit:18\n",
      "$15\n",
      "Enter your age to know the cost of movie ticket,Enter 0 to quit:0\n",
      "ThankYou!\n"
     ]
    }
   ],
   "source": [
    "age=1\n",
    "while(age!=0):\n",
    "    age=int(input(\"Enter your age to know the cost of movie ticket,Enter 0 to quit:\"))\n",
    "    if age==0:\n",
    "        print(\"ThankYou!\")\n",
    "        break\n",
    "    if age<3:\n",
    "        print(\"FREE\")\n",
    "    elif age>=3 and age<=12:\n",
    "        print(\"$10\")\n",
    "    elif age>12:\n",
    "        print(\"$15\")"
   ]
  },
  {
   "cell_type": "markdown",
   "metadata": {},
   "source": [
    "Problem#4"
   ]
  },
  {
   "cell_type": "code",
   "execution_count": 41,
   "metadata": {},
   "outputs": [],
   "source": [
    "def favorite_book(name):\n",
    "    print(\"One of my favorite books is \"+name+\".\")"
   ]
  },
  {
   "cell_type": "code",
   "execution_count": 43,
   "metadata": {},
   "outputs": [
    {
     "name": "stdout",
     "output_type": "stream",
     "text": [
      "One of my favorite books is The chronicles of Narnia.\n"
     ]
    }
   ],
   "source": [
    "favorite_book(\"The chronicles of Narnia\")"
   ]
  },
  {
   "cell_type": "markdown",
   "metadata": {},
   "source": [
    "Problem#5"
   ]
  },
  {
   "cell_type": "code",
   "execution_count": 49,
   "metadata": {},
   "outputs": [
    {
     "name": "stdout",
     "output_type": "stream",
     "text": [
      "Guess the number:5\n",
      "Try Again! Try Higher!\n",
      "Guess the number:6\n",
      "Try Again! Try Higher!\n",
      "Guess the number:7\n",
      "Try Again! Try Higher!\n",
      "Sorry, you have used all three chances!\n"
     ]
    }
   ],
   "source": [
    "import random\n",
    "r_num = random.randint(1, 10)\n",
    "u_num=0\n",
    "chance=0\n",
    "while(r_num!=u_num):\n",
    "    chance=chance+1\n",
    "    u_num=int(input(\"Guess the number:\"))\n",
    "    if u_num>r_num:\n",
    "        print(\"Try Again! Try Lower!\")\n",
    "    if u_num<r_num:\n",
    "        print(\"Try Again! Try Higher!\")\n",
    "    if u_num==r_num:\n",
    "        print(\"Yes, You got it!\")\n",
    "    if chance==3:\n",
    "        print(\"Sorry, you have used all three chances!\")\n",
    "        break"
   ]
  },
  {
   "cell_type": "code",
   "execution_count": null,
   "metadata": {},
   "outputs": [],
   "source": []
  }
 ],
 "metadata": {
  "kernelspec": {
   "display_name": "Python 3",
   "language": "python",
   "name": "python3"
  },
  "language_info": {
   "codemirror_mode": {
    "name": "ipython",
    "version": 3
   },
   "file_extension": ".py",
   "mimetype": "text/x-python",
   "name": "python",
   "nbconvert_exporter": "python",
   "pygments_lexer": "ipython3",
   "version": "3.7.0"
  }
 },
 "nbformat": 4,
 "nbformat_minor": 2
}
