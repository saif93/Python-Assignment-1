{
 "cells": [
  {
   "cell_type": "markdown",
   "metadata": {},
   "source": [
    "Problem#1"
   ]
  },
  {
   "cell_type": "code",
   "execution_count": 28,
   "metadata": {
    "scrolled": true
   },
   "outputs": [
    {
     "name": "stdout",
     "output_type": "stream",
     "text": [
      "Enter Number1:10\n",
      "Enter Number2:2\n",
      "Addition:12\n",
      "Subtraction:8\n",
      "Division:5.0\n",
      "Multiplication:20\n",
      "Power:100\n"
     ]
    }
   ],
   "source": [
    "num1 = int(input('Enter Number1:'))\n",
    "num2 = int(input('Enter Number2:'))\n",
    "print(\"Addition:\"+str(num1+num2))\n",
    "print(\"Subtraction:\"+str(num1-num2))\n",
    "print(\"Division:\"+str(num1/num2))\n",
    "print(\"Multiplication:\"+str(num1*num2))\n",
    "print(\"Power:\"+str(num1**num2))"
   ]
  },
  {
   "cell_type": "markdown",
   "metadata": {},
   "source": [
    "Problem#2"
   ]
  },
  {
   "cell_type": "code",
   "execution_count": 29,
   "metadata": {},
   "outputs": [
    {
     "name": "stdout",
     "output_type": "stream",
     "text": [
      "1 is int\n",
      "2 is int\n",
      "5 is int\n",
      "8 is int\n",
      "21 is int\n",
      "34 is int\n",
      "55 is int\n"
     ]
    }
   ],
   "source": [
    "a = ['a', 1, 2, 'b', 5, 8, 'c', 21, 34, 55, 'd']\n",
    "for i in a:\n",
    "    if isinstance(i, int):\n",
    "        print(str(i)+ \" is int\")\n"
   ]
  },
  {
   "cell_type": "markdown",
   "metadata": {},
   "source": [
    "Problem#3"
   ]
  },
  {
   "cell_type": "code",
   "execution_count": 31,
   "metadata": {},
   "outputs": [
    {
     "name": "stdout",
     "output_type": "stream",
     "text": [
      "{'brand': 'Ford', 'model': 'Mustang', 'year': 1960}\n",
      "After addition\n",
      "{'brand': 'Ford', 'model': 'Mustang', 'year': 1960, 'color': 'black'}\n"
     ]
    }
   ],
   "source": [
    "dict1 = {\n",
    "  \"brand\": \"Ford\",\n",
    "  \"model\": \"Mustang\",\n",
    "  \"year\": 1960\n",
    "}\n",
    "print(dict1)\n",
    "dict1[\"color\"] = \"black\"\n",
    "print(\"After addition\")\n",
    "print(dict1)"
   ]
  },
  {
   "cell_type": "markdown",
   "metadata": {},
   "source": [
    "Problem#4"
   ]
  },
  {
   "cell_type": "code",
   "execution_count": 33,
   "metadata": {},
   "outputs": [
    {
     "name": "stdout",
     "output_type": "stream",
     "text": [
      "total: 3979\n"
     ]
    }
   ],
   "source": [
    "dict2 = {\n",
    "  \"brand\": \"Ford\",\n",
    "  \"model\": \"Mustang\",\n",
    "  \"year\": 1960,\n",
    "    \"current model\":2019\n",
    "}\n",
    "total=0\n",
    "\n",
    "for i in dict2.values():\n",
    "    if isinstance(i, int):\n",
    "        total= total+i\n",
    "print(\"total: \"+str(total))"
   ]
  },
  {
   "cell_type": "markdown",
   "metadata": {},
   "source": [
    "Problem#5"
   ]
  },
  {
   "cell_type": "code",
   "execution_count": 35,
   "metadata": {},
   "outputs": [
    {
     "name": "stdout",
     "output_type": "stream",
     "text": [
      "1 is duplicate\n",
      "3 is duplicate\n",
      "21 is duplicate\n"
     ]
    }
   ],
   "source": [
    "a = [1, 1, 2, 3, 5, 8, 21, 21, 34, 55, 3]\n",
    "seen = []\n",
    "for i in a:\n",
    "    dup=0\n",
    "    for j in a:\n",
    "        if i==j:\n",
    "            dup=dup+1\n",
    "    if dup>1:\n",
    "        if i not in seen:\n",
    "            print (str(i)+\" is duplicate\")\n",
    "            seen.append(i)\n",
    "        "
   ]
  },
  {
   "cell_type": "markdown",
   "metadata": {},
   "source": [
    "Problem#6"
   ]
  },
  {
   "cell_type": "code",
   "execution_count": 36,
   "metadata": {},
   "outputs": [
    {
     "name": "stdout",
     "output_type": "stream",
     "text": [
      "Key exists!\n"
     ]
    }
   ],
   "source": [
    "dict3 = {\n",
    "  \"brand\": \"Ford\",\n",
    "  \"model\": \"Mustang\",\n",
    "  \"year\": 1960,\n",
    "    \"current model\":2019\n",
    "}\n",
    "\n",
    "if \"current model\" in dict3:\n",
    "    print(\"Key exists!\")\n",
    "    "
   ]
  },
  {
   "cell_type": "code",
   "execution_count": null,
   "metadata": {},
   "outputs": [],
   "source": []
  }
 ],
 "metadata": {
  "kernelspec": {
   "display_name": "Python 3",
   "language": "python",
   "name": "python3"
  },
  "language_info": {
   "codemirror_mode": {
    "name": "ipython",
    "version": 3
   },
   "file_extension": ".py",
   "mimetype": "text/x-python",
   "name": "python",
   "nbconvert_exporter": "python",
   "pygments_lexer": "ipython3",
   "version": "3.6.7"
  }
 },
 "nbformat": 4,
 "nbformat_minor": 2
}
