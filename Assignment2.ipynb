{
 "cells": [
  {
   "cell_type": "markdown",
   "metadata": {},
   "source": [
    "Problem#1"
   ]
  },
  {
   "cell_type": "code",
   "execution_count": 20,
   "metadata": {
    "scrolled": true
   },
   "outputs": [
    {
     "name": "stdout",
     "output_type": "stream",
     "text": [
      "Enter Marks (out of 100) for Subject 1:90\n",
      "Enter Marks (out of 100) for Subject 2:87\n",
      "Enter Marks (out of 100) for Subject 3:77\n",
      "Enter Marks (out of 100) for Subject 4:67\n",
      "Enter Marks (out of 100) for Subject 5:86\n",
      "Subject 1 - 90 Marks\n",
      "Subject 2 - 87 Marks\n",
      "Subject 3 - 77 Marks\n",
      "Subject 4 - 67 Marks\n",
      "Subject 5 - 86 Marks\n",
      "Total: 407\n",
      "Grade A+\n"
     ]
    }
   ],
   "source": [
    "marks = []\n",
    "subjects = 5\n",
    "total\n",
    "for i in range(subjects):\n",
    "    marks.append(int(input('Enter Marks (out of 100) for Subject '+str(i+1)+\":\")))\n",
    "total = sum(marks)\n",
    "for i in range(subjects):\n",
    "    print(\"Subject \"+str(i+1)+\" - \"+str(marks[i])+\" Marks\")\n",
    "print (\"Total: \"+str(total))\n",
    "if total>=80:\n",
    "    print (\"Grade A+\")\n",
    "elif total<80 and total>=70:\n",
    "    print(\"Grade A\")\n",
    "elif total <70 and total>=60:\n",
    "    print (\"Grade B\")\n",
    "elif total <60 and total>=50:\n",
    "    print (\"Grade C\")\n",
    "elif total <50:\n",
    "    print (\"Fail\")"
   ]
  },
  {
   "cell_type": "markdown",
   "metadata": {},
   "source": [
    "Problem#2"
   ]
  },
  {
   "cell_type": "code",
   "execution_count": 22,
   "metadata": {},
   "outputs": [
    {
     "name": "stdout",
     "output_type": "stream",
     "text": [
      "Enter a number:2\n",
      "Even\n"
     ]
    }
   ],
   "source": [
    "num = int(input('Enter a number:'))\n",
    "if num%2==0:\n",
    "    print(\"Even\")\n",
    "else:\n",
    "    print(\"Odd\")"
   ]
  },
  {
   "cell_type": "markdown",
   "metadata": {},
   "source": [
    "Problem#3"
   ]
  },
  {
   "cell_type": "code",
   "execution_count": 24,
   "metadata": {},
   "outputs": [
    {
     "name": "stdout",
     "output_type": "stream",
     "text": [
      "Length is 22\n"
     ]
    }
   ],
   "source": [
    "string = \"Muhammad Saif ul islam\"\n",
    "print(\"Length is \"+str(len(string)))"
   ]
  },
  {
   "cell_type": "markdown",
   "metadata": {},
   "source": [
    "Problem#4"
   ]
  },
  {
   "cell_type": "code",
   "execution_count": 25,
   "metadata": {},
   "outputs": [
    {
     "name": "stdout",
     "output_type": "stream",
     "text": [
      "Total:15\n"
     ]
    }
   ],
   "source": [
    "list1= [1,2,3,4,5]\n",
    "total=0\n",
    "for i in list1:\n",
    "    total=total+i\n",
    "print(\"Total:\"+str(total))"
   ]
  },
  {
   "cell_type": "markdown",
   "metadata": {},
   "source": [
    "Problem#5"
   ]
  },
  {
   "cell_type": "code",
   "execution_count": 26,
   "metadata": {},
   "outputs": [
    {
     "name": "stdout",
     "output_type": "stream",
     "text": [
      "max: 5\n"
     ]
    }
   ],
   "source": [
    "list2= [3,5,1,4,2]\n",
    "max = list1[0]\n",
    "for i in list2:\n",
    "    if i>max:\n",
    "        max=i\n",
    "print(\"max: \"+str(max))"
   ]
  },
  {
   "cell_type": "markdown",
   "metadata": {},
   "source": [
    "Problem#6"
   ]
  },
  {
   "cell_type": "code",
   "execution_count": 27,
   "metadata": {},
   "outputs": [
    {
     "name": "stdout",
     "output_type": "stream",
     "text": [
      "1\n",
      "1\n",
      "2\n",
      "3\n"
     ]
    }
   ],
   "source": [
    "a = [1, 1, 2, 3, 5, 8, 13, 21, 34, 55, 89]\n",
    "for i in a:\n",
    "    if i<5:\n",
    "        print(i)"
   ]
  },
  {
   "cell_type": "code",
   "execution_count": null,
   "metadata": {},
   "outputs": [],
   "source": []
  }
 ],
 "metadata": {
  "kernelspec": {
   "display_name": "Python 3",
   "language": "python",
   "name": "python3"
  },
  "language_info": {
   "codemirror_mode": {
    "name": "ipython",
    "version": 3
   },
   "file_extension": ".py",
   "mimetype": "text/x-python",
   "name": "python",
   "nbconvert_exporter": "python",
   "pygments_lexer": "ipython3",
   "version": "3.6.7"
  }
 },
 "nbformat": 4,
 "nbformat_minor": 2
}
